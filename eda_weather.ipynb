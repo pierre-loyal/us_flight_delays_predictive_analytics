{
 "cells": [
  {
   "cell_type": "code",
   "execution_count": 1,
   "metadata": {},
   "outputs": [],
   "source": [
    "import pandas as pd\n",
    "import matplotlib as plt \n",
    "import matplotlib.pyplot as plt\n",
    "import seaborn as sns \n",
    "import numpy as np"
   ]
  },
  {
   "cell_type": "code",
   "execution_count": 2,
   "metadata": {},
   "outputs": [],
   "source": [
    "df_weather = pd.read_csv ('/Users/pierreloyal/Desktop/Bootcamp CA/us_flight_2023/weather_meteo_by_airport.csv')"
   ]
  },
  {
   "cell_type": "code",
   "execution_count": 3,
   "metadata": {},
   "outputs": [
    {
     "data": {
      "text/plain": [
       "(132860, 10)"
      ]
     },
     "execution_count": 3,
     "metadata": {},
     "output_type": "execute_result"
    }
   ],
   "source": [
    "df_weather.shape"
   ]
  },
  {
   "cell_type": "code",
   "execution_count": 4,
   "metadata": {},
   "outputs": [
    {
     "name": "stdout",
     "output_type": "stream",
     "text": [
      "<class 'pandas.core.frame.DataFrame'>\n",
      "RangeIndex: 132860 entries, 0 to 132859\n",
      "Data columns (total 10 columns):\n",
      " #   Column      Non-Null Count   Dtype  \n",
      "---  ------      --------------   -----  \n",
      " 0   time        132860 non-null  object \n",
      " 1   tavg        132860 non-null  float64\n",
      " 2   tmin        132860 non-null  float64\n",
      " 3   tmax        132860 non-null  float64\n",
      " 4   prcp        132860 non-null  float64\n",
      " 5   snow        132860 non-null  float64\n",
      " 6   wdir        132860 non-null  float64\n",
      " 7   wspd        132860 non-null  float64\n",
      " 8   pres        132860 non-null  float64\n",
      " 9   airport_id  132860 non-null  object \n",
      "dtypes: float64(8), object(2)\n",
      "memory usage: 10.1+ MB\n"
     ]
    }
   ],
   "source": [
    "df_weather.info()"
   ]
  },
  {
   "cell_type": "code",
   "execution_count": 5,
   "metadata": {},
   "outputs": [
    {
     "data": {
      "text/html": [
       "<div>\n",
       "<style scoped>\n",
       "    .dataframe tbody tr th:only-of-type {\n",
       "        vertical-align: middle;\n",
       "    }\n",
       "\n",
       "    .dataframe tbody tr th {\n",
       "        vertical-align: top;\n",
       "    }\n",
       "\n",
       "    .dataframe thead th {\n",
       "        text-align: right;\n",
       "    }\n",
       "</style>\n",
       "<table border=\"1\" class=\"dataframe\">\n",
       "  <thead>\n",
       "    <tr style=\"text-align: right;\">\n",
       "      <th></th>\n",
       "      <th>tavg</th>\n",
       "      <th>tmin</th>\n",
       "      <th>tmax</th>\n",
       "      <th>prcp</th>\n",
       "      <th>snow</th>\n",
       "      <th>wdir</th>\n",
       "      <th>wspd</th>\n",
       "      <th>pres</th>\n",
       "    </tr>\n",
       "  </thead>\n",
       "  <tbody>\n",
       "    <tr>\n",
       "      <th>count</th>\n",
       "      <td>132860.000000</td>\n",
       "      <td>132860.000000</td>\n",
       "      <td>132860.000000</td>\n",
       "      <td>132860.000000</td>\n",
       "      <td>132860.000000</td>\n",
       "      <td>132860.000000</td>\n",
       "      <td>132860.000000</td>\n",
       "      <td>132860.000000</td>\n",
       "    </tr>\n",
       "    <tr>\n",
       "      <th>mean</th>\n",
       "      <td>14.042641</td>\n",
       "      <td>8.699833</td>\n",
       "      <td>19.617149</td>\n",
       "      <td>2.520604</td>\n",
       "      <td>6.810131</td>\n",
       "      <td>188.686042</td>\n",
       "      <td>12.424556</td>\n",
       "      <td>1015.650368</td>\n",
       "    </tr>\n",
       "    <tr>\n",
       "      <th>std</th>\n",
       "      <td>10.672859</td>\n",
       "      <td>10.680441</td>\n",
       "      <td>11.392223</td>\n",
       "      <td>7.915755</td>\n",
       "      <td>50.935283</td>\n",
       "      <td>114.629099</td>\n",
       "      <td>6.211261</td>\n",
       "      <td>6.944599</td>\n",
       "    </tr>\n",
       "    <tr>\n",
       "      <th>min</th>\n",
       "      <td>-39.100000</td>\n",
       "      <td>-76.000000</td>\n",
       "      <td>-35.000000</td>\n",
       "      <td>0.000000</td>\n",
       "      <td>0.000000</td>\n",
       "      <td>0.000000</td>\n",
       "      <td>0.000000</td>\n",
       "      <td>964.300000</td>\n",
       "    </tr>\n",
       "    <tr>\n",
       "      <th>25%</th>\n",
       "      <td>6.300000</td>\n",
       "      <td>1.100000</td>\n",
       "      <td>11.700000</td>\n",
       "      <td>0.000000</td>\n",
       "      <td>0.000000</td>\n",
       "      <td>79.000000</td>\n",
       "      <td>7.900000</td>\n",
       "      <td>1011.600000</td>\n",
       "    </tr>\n",
       "    <tr>\n",
       "      <th>50%</th>\n",
       "      <td>15.400000</td>\n",
       "      <td>9.400000</td>\n",
       "      <td>21.200000</td>\n",
       "      <td>0.000000</td>\n",
       "      <td>0.000000</td>\n",
       "      <td>197.000000</td>\n",
       "      <td>11.300000</td>\n",
       "      <td>1015.400000</td>\n",
       "    </tr>\n",
       "    <tr>\n",
       "      <th>75%</th>\n",
       "      <td>22.500000</td>\n",
       "      <td>17.200000</td>\n",
       "      <td>28.900000</td>\n",
       "      <td>1.000000</td>\n",
       "      <td>0.000000</td>\n",
       "      <td>297.000000</td>\n",
       "      <td>15.700000</td>\n",
       "      <td>1019.700000</td>\n",
       "    </tr>\n",
       "    <tr>\n",
       "      <th>max</th>\n",
       "      <td>42.200000</td>\n",
       "      <td>37.200000</td>\n",
       "      <td>50.000000</td>\n",
       "      <td>571.500000</td>\n",
       "      <td>1780.000000</td>\n",
       "      <td>360.000000</td>\n",
       "      <td>78.300000</td>\n",
       "      <td>1051.000000</td>\n",
       "    </tr>\n",
       "  </tbody>\n",
       "</table>\n",
       "</div>"
      ],
      "text/plain": [
       "                tavg           tmin           tmax           prcp  \\\n",
       "count  132860.000000  132860.000000  132860.000000  132860.000000   \n",
       "mean       14.042641       8.699833      19.617149       2.520604   \n",
       "std        10.672859      10.680441      11.392223       7.915755   \n",
       "min       -39.100000     -76.000000     -35.000000       0.000000   \n",
       "25%         6.300000       1.100000      11.700000       0.000000   \n",
       "50%        15.400000       9.400000      21.200000       0.000000   \n",
       "75%        22.500000      17.200000      28.900000       1.000000   \n",
       "max        42.200000      37.200000      50.000000     571.500000   \n",
       "\n",
       "                snow           wdir           wspd           pres  \n",
       "count  132860.000000  132860.000000  132860.000000  132860.000000  \n",
       "mean        6.810131     188.686042      12.424556    1015.650368  \n",
       "std        50.935283     114.629099       6.211261       6.944599  \n",
       "min         0.000000       0.000000       0.000000     964.300000  \n",
       "25%         0.000000      79.000000       7.900000    1011.600000  \n",
       "50%         0.000000     197.000000      11.300000    1015.400000  \n",
       "75%         0.000000     297.000000      15.700000    1019.700000  \n",
       "max      1780.000000     360.000000      78.300000    1051.000000  "
      ]
     },
     "execution_count": 5,
     "metadata": {},
     "output_type": "execute_result"
    }
   ],
   "source": [
    "df_weather.describe()"
   ]
  },
  {
   "cell_type": "code",
   "execution_count": 6,
   "metadata": {},
   "outputs": [
    {
     "data": {
      "text/plain": [
       "time          2023-01-19\n",
       "tavg                 3.4\n",
       "tmin                 1.7\n",
       "tmax                 4.4\n",
       "prcp                22.6\n",
       "snow                 0.0\n",
       "wdir                54.0\n",
       "wspd                 8.3\n",
       "pres              1011.8\n",
       "airport_id           ABE\n",
       "Name: 18, dtype: object"
      ]
     },
     "execution_count": 6,
     "metadata": {},
     "output_type": "execute_result"
    }
   ],
   "source": [
    "row_data = df_weather.loc[18]\n",
    "\n",
    "row_data"
   ]
  },
  {
   "cell_type": "markdown",
   "metadata": {},
   "source": [
    "## Check Count of Days "
   ]
  },
  {
   "cell_type": "code",
   "execution_count": 7,
   "metadata": {},
   "outputs": [
    {
     "data": {
      "text/plain": [
       "365"
      ]
     },
     "execution_count": 7,
     "metadata": {},
     "output_type": "execute_result"
    }
   ],
   "source": [
    "JFK_count = df_weather[df_weather['airport_id'] == 'JFK'].shape[0]\n",
    "JFK_count"
   ]
  },
  {
   "cell_type": "markdown",
   "metadata": {},
   "source": [
    "## Count Distinct Airports"
   ]
  },
  {
   "cell_type": "code",
   "execution_count": 8,
   "metadata": {},
   "outputs": [
    {
     "data": {
      "text/plain": [
       "364"
      ]
     },
     "execution_count": 8,
     "metadata": {},
     "output_type": "execute_result"
    }
   ],
   "source": [
    "distinct_airport_ids = df_weather['airport_id'].nunique()\n",
    "distinct_airport_ids"
   ]
  },
  {
   "cell_type": "code",
   "execution_count": 9,
   "metadata": {},
   "outputs": [
    {
     "data": {
      "text/plain": [
       "array(['ABE', 'ABI', 'ABQ', 'ABR', 'ABY', 'ACK', 'ACT', 'ACV', 'ACY',\n",
       "       'ADK', 'ADQ', 'AEX', 'AGS', 'AKN', 'ALB', 'ALO', 'ALW', 'AMA',\n",
       "       'ANC', 'APN', 'ASE', 'ATL', 'ATW', 'AUS', 'AVL', 'AVP', 'AZA',\n",
       "       'AZO', 'BDL', 'BET', 'BFF', 'BFL', 'BGM', 'BGR', 'BHM', 'BIH',\n",
       "       'BIL', 'BIS', 'BJI', 'BLI', 'BLV', 'BMI', 'BNA', 'BOI', 'BOS',\n",
       "       'BPT', 'BQK', 'BQN', 'BRD', 'BRO', 'BRW', 'BTM', 'BTR', 'BTV',\n",
       "       'BUF', 'BUR', 'BWI', 'BZN', 'CAE', 'CAK', 'CDC', 'CDV', 'CEC',\n",
       "       'CHA', 'CHO', 'CHS', 'CID', 'CIU', 'CKB', 'CLD', 'CLE', 'CLL',\n",
       "       'CLT', 'CMH', 'CMI', 'CMX', 'CNY', 'COD', 'COS', 'COU', 'CPR',\n",
       "       'CRP', 'CRW', 'CSG', 'CVG', 'CWA', 'CYS', 'DAB', 'DAL', 'DAY',\n",
       "       'DBQ', 'DCA', 'DDC', 'DEC', 'DEN', 'DFW', 'DHN', 'DIK', 'DLG',\n",
       "       'DLH', 'DRO', 'DRT', 'DSM', 'DTW', 'DVL', 'EAT', 'EAU', 'ECP',\n",
       "       'EGE', 'EKO', 'ELM', 'ELP', 'ERI', 'ESC', 'EUG', 'EVV', 'EWN',\n",
       "       'EWR', 'EYW', 'FAI', 'FAR', 'FAT', 'FAY', 'FCA', 'FLG', 'FLL',\n",
       "       'FNT', 'FOD', 'FSD', 'FSM', 'FWA', 'GCC', 'GCK', 'GEG', 'GFK',\n",
       "       'GGG', 'GJT', 'GNV', 'GPT', 'GRB', 'GRI', 'GRK', 'GRR', 'GSO',\n",
       "       'GSP', 'GST', 'GTF', 'GTR', 'GUC', 'GUM', 'HDN', 'HGR', 'HHH',\n",
       "       'HIB', 'HLN', 'HNL', 'HOB', 'HOU', 'HPN', 'HRL', 'HSV', 'HTS',\n",
       "       'HYA', 'HYS', 'IAD', 'IAG', 'IAH', 'ICT', 'IDA', 'ILG', 'ILM',\n",
       "       'IMT', 'IND', 'INL', 'ISN', 'ISP', 'ITH', 'ITO', 'JAC', 'JAN',\n",
       "       'JAX', 'JFK', 'JLN', 'JMS', 'JNU', 'JST', 'KOA', 'KTN', 'LAN',\n",
       "       'LAR', 'LAS', 'LAW', 'LAX', 'LBB', 'LBE', 'LBF', 'LBL', 'LCH',\n",
       "       'LCK', 'LEX', 'LFT', 'LGA', 'LGB', 'LIH', 'LIT', 'LNK', 'LRD',\n",
       "       'LSE', 'LWS', 'MAF', 'MBS', 'MCI', 'MCO', 'MCW', 'MDT', 'MDW',\n",
       "       'MEI', 'MEM', 'MFE', 'MFR', 'MGM', 'MHK', 'MHT', 'MIA', 'MKE',\n",
       "       'MKG', 'MLB', 'MLI', 'MLU', 'MMH', 'MOB', 'MOT', 'MQT', 'MRY',\n",
       "       'MSN', 'MSO', 'MSP', 'MSY', 'MTJ', 'MVY', 'MYR', 'OAJ', 'OAK',\n",
       "       'OGG', 'OKC', 'OMA', 'OME', 'ONT', 'ORD', 'ORF', 'ORH', 'OTH',\n",
       "       'OTZ', 'OWB', 'PAE', 'PAH', 'PBG', 'PBI', 'PDX', 'PGD', 'PGV',\n",
       "       'PHF', 'PHL', 'PHX', 'PIA', 'PIB', 'PIE', 'PIH', 'PIT', 'PLN',\n",
       "       'PNS', 'PPG', 'PRC', 'PSC', 'PSE', 'PSG', 'PSM', 'PSP', 'PUB',\n",
       "       'PUW', 'PVD', 'PVU', 'PWM', 'RAP', 'RDD', 'RDM', 'RDU', 'RFD',\n",
       "       'RHI', 'RIC', 'RIW', 'RKS', 'RNO', 'ROA', 'ROC', 'ROW', 'RST',\n",
       "       'RSW', 'SAF', 'SAN', 'SAT', 'SAV', 'SBA', 'SBN', 'SBP', 'SCC',\n",
       "       'SCE', 'SCK', 'SDF', 'SEA', 'SFB', 'SFO', 'SGF', 'SGU', 'SHR',\n",
       "       'SHV', 'SIT', 'SJC', 'SJT', 'SJU', 'SLC', 'SLN', 'SMF', 'SMX',\n",
       "       'SNA', 'SPI', 'SPN', 'SPS', 'SRQ', 'STC', 'STL', 'STS', 'STT',\n",
       "       'STX', 'SUN', 'SUX', 'SWF', 'SWO', 'SYR', 'TLH', 'TOL', 'TPA',\n",
       "       'TRI', 'TTN', 'TUL', 'TUS', 'TVC', 'TWF', 'TXK', 'TYR', 'TYS',\n",
       "       'USA', 'UST', 'VCT', 'VEL', 'VLD', 'VPS', 'WRG', 'WYS', 'XNA',\n",
       "       'XWA', 'YAK', 'YKM', 'YUM'], dtype=object)"
      ]
     },
     "execution_count": 9,
     "metadata": {},
     "output_type": "execute_result"
    }
   ],
   "source": [
    "distinct_airport_ids = df_weather['airport_id'].unique()\n",
    "distinct_airport_ids"
   ]
  },
  {
   "cell_type": "markdown",
   "metadata": {},
   "source": [
    "## Checking NaN"
   ]
  },
  {
   "cell_type": "code",
   "execution_count": 10,
   "metadata": {},
   "outputs": [
    {
     "name": "stdout",
     "output_type": "stream",
     "text": [
      "time          0\n",
      "tavg          0\n",
      "tmin          0\n",
      "tmax          0\n",
      "prcp          0\n",
      "snow          0\n",
      "wdir          0\n",
      "wspd          0\n",
      "pres          0\n",
      "airport_id    0\n",
      "dtype: int64\n"
     ]
    }
   ],
   "source": [
    "missing_weather = df_weather.isnull().sum()\n",
    "print(missing_weather)"
   ]
  },
  {
   "cell_type": "markdown",
   "metadata": {},
   "source": [
    "## Checking highest tmax"
   ]
  },
  {
   "cell_type": "code",
   "execution_count": 11,
   "metadata": {},
   "outputs": [
    {
     "name": "stdout",
     "output_type": "stream",
     "text": [
      "Max Temperature 50.0\n"
     ]
    }
   ],
   "source": [
    "temp_max = df_weather ['tmax'].max()\n",
    "print(\"Max Temperature\", temp_max)"
   ]
  },
  {
   "cell_type": "code",
   "execution_count": 12,
   "metadata": {},
   "outputs": [
    {
     "name": "stdout",
     "output_type": "stream",
     "text": [
      "time          2023-09-02\n",
      "tavg                25.5\n",
      "tmin                21.0\n",
      "tmax                50.0\n",
      "prcp                 0.0\n",
      "snow                 0.0\n",
      "wdir                68.0\n",
      "wspd                 8.7\n",
      "pres              1019.5\n",
      "airport_id           VLD\n",
      "Name: 129819, dtype: object\n"
     ]
    }
   ],
   "source": [
    "temp_max_row = df_weather.loc[df_weather['tmax'].idxmax()] \n",
    "print(temp_max_row)"
   ]
  },
  {
   "cell_type": "code",
   "execution_count": 13,
   "metadata": {},
   "outputs": [
    {
     "name": "stdout",
     "output_type": "stream",
     "text": [
      "              time  tavg  tmin  tmax  prcp  snow   wdir  wspd    pres  \\\n",
      "129819  2023-09-02  25.5  21.0  50.0   0.0   0.0   68.0   8.7  1019.5   \n",
      "101306  2023-07-21  39.4  31.1  48.9   0.0   0.0  334.0  11.9  1007.1   \n",
      "9689    2023-07-19  42.2  36.1  48.3   0.0   0.0  278.0  12.6  1008.2   \n",
      "9690    2023-07-20  41.3  33.9  48.3   0.0   0.0  235.0  14.0  1007.4   \n",
      "9695    2023-07-25  40.2  33.9  48.3   0.0   0.0  233.0  11.9  1008.7   \n",
      "96194   2023-07-19  42.2  36.1  48.3   0.0   0.0  278.0  12.6  1008.2   \n",
      "96195   2023-07-20  41.3  33.9  48.3   0.0   0.0  235.0  14.0  1007.4   \n",
      "96200   2023-07-25  40.2  33.9  48.3   0.0   0.0  233.0  11.9  1008.7   \n",
      "132734  2023-08-28  39.3  30.6  48.0   0.0   0.0  315.0  13.1  1005.4   \n",
      "9685    2023-07-15  41.1  33.3  47.8   0.0   0.0  270.0  14.0  1005.0   \n",
      "\n",
      "       airport_id  \n",
      "129819        VLD  \n",
      "101306        PSP  \n",
      "9689          AZA  \n",
      "9690          AZA  \n",
      "9695          AZA  \n",
      "96194         PHX  \n",
      "96195         PHX  \n",
      "96200         PHX  \n",
      "132734        YUM  \n",
      "9685          AZA  \n"
     ]
    }
   ],
   "source": [
    "\n",
    "hottest_temperatures = df_weather.nlargest(10, 'tmax')\n",
    "\n",
    "print(hottest_temperatures)"
   ]
  },
  {
   "cell_type": "markdown",
   "metadata": {},
   "source": [
    "## Checking Coldest Temperatures"
   ]
  },
  {
   "cell_type": "code",
   "execution_count": 14,
   "metadata": {},
   "outputs": [
    {
     "name": "stdout",
     "output_type": "stream",
     "text": [
      "time          2023-02-01\n",
      "tavg                -9.5\n",
      "tmin               -76.0\n",
      "tmax                -2.0\n",
      "prcp                 0.0\n",
      "snow                 0.0\n",
      "wdir               303.0\n",
      "wspd                 9.3\n",
      "pres              1025.0\n",
      "airport_id           ALB\n",
      "Name: 5141, dtype: object\n"
     ]
    }
   ],
   "source": [
    "temp_min_row = df_weather.loc[df_weather['tmin'].idxmin()]\n",
    "print(temp_min_row)"
   ]
  },
  {
   "cell_type": "code",
   "execution_count": 15,
   "metadata": {},
   "outputs": [
    {
     "name": "stdout",
     "output_type": "stream",
     "text": [
      "              time  tavg  tmin  tmax  prcp  snow   wdir  wspd    pres  \\\n",
      "5141    2023-02-01  -9.5 -76.0  -2.0   0.0   0.0  303.0   9.3  1025.0   \n",
      "111359  2023-02-04 -39.1 -41.1 -35.0   0.0   0.0  284.0   7.3  1012.5   \n",
      "111358  2023-02-03 -36.0 -40.6 -33.3   0.0   0.0   26.0   4.3  1015.1   \n",
      "111367  2023-02-12 -32.5 -40.0 -29.0   0.0   0.0   39.0  16.1  1011.8   \n",
      "111368  2023-02-13 -36.4 -40.0 -32.8   0.0   0.0  248.0  12.3  1023.6   \n",
      "111357  2023-02-02 -32.3 -39.0 -26.1   0.0   0.0   51.0  15.7  1015.5   \n",
      "111360  2023-02-05 -35.6 -39.0 -25.0   0.0   0.0    6.0   6.8  1009.0   \n",
      "111386  2023-03-03 -36.7 -39.0 -33.3   0.0   0.0  234.0  11.7  1024.0   \n",
      "111387  2023-03-04 -34.8 -39.0 -31.1   0.0   0.0  125.0  18.1  1032.8   \n",
      "111361  2023-02-06 -35.2 -38.9 -32.0   0.0   0.0  249.0  15.6  1004.7   \n",
      "\n",
      "       airport_id  \n",
      "5141          ALB  \n",
      "111359        SCC  \n",
      "111358        SCC  \n",
      "111367        SCC  \n",
      "111368        SCC  \n",
      "111357        SCC  \n",
      "111360        SCC  \n",
      "111386        SCC  \n",
      "111387        SCC  \n",
      "111361        SCC  \n"
     ]
    }
   ],
   "source": [
    "# Getting the 10 rows with the lowest values in the 'tmin' column\n",
    "coldest_temperatures = df_weather.nsmallest(10, 'tmin')\n",
    "\n",
    "print(coldest_temperatures)"
   ]
  },
  {
   "cell_type": "code",
   "execution_count": 16,
   "metadata": {},
   "outputs": [
    {
     "data": {
      "image/png": "[encoded data removed]",
      "text/plain": [
       "<Figure size 1000x800 with 2 Axes>"
      ]
     },
     "metadata": {},
     "output_type": "display_data"
    }
   ],
   "source": [
    "weather_corr_matrix = df_weather[['tavg', 'tmin', 'tmax', 'prcp', 'snow', 'wdir', 'wspd', 'pres']].corr()\n",
    "\n",
    "plt.figure(figsize=(10, 8))\n",
    "sns.heatmap(weather_corr_matrix, annot=True, cmap='coolwarm', vmin=-1, vmax=1)\n",
    "plt.title('Correlation Matrix - Weather Dataset')\n",
    "plt.show()"
   ]
  }
 ],
 "metadata": {
  "kernelspec": {
   "display_name": "base",
   "language": "python",
   "name": "python3"
  },
  "language_info": {
   "codemirror_mode": {
    "name": "ipython",
    "version": 3
   },
   "file_extension": ".py",
   "mimetype": "text/x-python",
   "name": "python",
   "nbconvert_exporter": "python",
   "pygments_lexer": "ipython3",
   "version": "3.11.5"
  }
 },
 "nbformat": 4,
 "nbformat_minor": 2
}
