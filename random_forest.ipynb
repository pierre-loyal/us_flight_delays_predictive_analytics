{
 "cells": [
  {
   "cell_type": "code",
   "execution_count": 54,
   "metadata": {},
   "outputs": [],
   "source": [
    "import pandas as pd\n",
    "import matplotlib as plt \n",
    "import seaborn as sns \n",
    "import numpy as np"
   ]
  },
  {
   "cell_type": "code",
   "execution_count": 55,
   "metadata": {},
   "outputs": [],
   "source": [
    "df_merged = pd.read_csv('/Users/pierreloyal/Desktop/Bootcamp CA/us_flight_2023/df_merged.csv')"
   ]
  },
  {
   "cell_type": "code",
   "execution_count": 56,
   "metadata": {},
   "outputs": [],
   "source": [
    "df_sampled = df_merged.sample(n=1000000, random_state=42)"
   ]
  },
  {
   "cell_type": "markdown",
   "metadata": {},
   "source": [
    "# Deployment"
   ]
  },
  {
   "cell_type": "markdown",
   "metadata": {},
   "source": [
    "## Day of Week Encod"
   ]
  },
  {
   "cell_type": "code",
   "execution_count": 57,
   "metadata": {},
   "outputs": [
    {
     "name": "stdout",
     "output_type": "stream",
     "text": [
      "[3 0 2 1 6 4 5]\n"
     ]
    }
   ],
   "source": [
    "from sklearn.preprocessing import LabelEncoder\n",
    "\n",
    "# Encoder for Day_Of_Week\n",
    "encoders = {'Day_Of_Week': LabelEncoder()}\n",
    "\n",
    "# Fit the encoder for Day_Of_Week\n",
    "encoders['Day_Of_Week'].fit([1, 2, 3, 4, 5, 6, 7])\n",
    "\n",
    "# Transform data\n",
    "df_sampled['Day_Of_Week'] = encoders['Day_Of_Week'].transform(df_sampled['Day_Of_Week'])\n",
    "\n",
    "print(df_sampled['Day_Of_Week'].unique())\n"
   ]
  },
  {
   "cell_type": "markdown",
   "metadata": {},
   "source": [
    "## Month Encod"
   ]
  },
  {
   "cell_type": "code",
   "execution_count": 58,
   "metadata": {},
   "outputs": [
    {
     "name": "stdout",
     "output_type": "stream",
     "text": [
      "[ 5  7  9  2  3  6  0  8  1 10  4 11]\n"
     ]
    }
   ],
   "source": [
    "encoders['Month'] = LabelEncoder()\n",
    "\n",
    "encoders['Month'].fit([1, 2, 3, 4, 5, 6, 7, 8, 9, 10, 11, 12])\n",
    "\n",
    "df_sampled['Month'] = encoders['Month'].transform(df_sampled['Month'])\n",
    "\n",
    "print(df_sampled['Month'].unique())\n"
   ]
  },
  {
   "cell_type": "markdown",
   "metadata": {},
   "source": [
    "## Airline Encod"
   ]
  },
  {
   "cell_type": "code",
   "execution_count": 59,
   "metadata": {},
   "outputs": [
    {
     "name": "stdout",
     "output_type": "stream",
     "text": [
      "[14 12  4 10  5  2  0 11  3  8 13  1  7  9  6]\n"
     ]
    }
   ],
   "source": [
    "airline_classes = ['Endeavor Air', 'American Airlines Inc.', 'Alaska Airlines Inc.', 'JetBlue Airways', \n",
    "                   'Delta Air Lines Inc', 'Frontier Airlines Inc.', 'Allegiant Air', 'Hawaiian Airlines Inc.',\n",
    "                   'American Eagle Airlines Inc.', 'Spirit Air Lines', 'Southwest Airlines Co.', 'Republic Airways',\n",
    "                   'PSA Airlines', 'Skywest Airlines Inc.', 'United Air Lines Inc.']\n",
    "\n",
    "encoders['Airline'] = LabelEncoder()\n",
    "\n",
    "encoders['Airline'].fit(airline_classes)\n",
    "\n",
    "df_sampled['Airline'] = encoders['Airline'].transform(df_sampled['Airline'])\n",
    "\n",
    "print(df_sampled['Airline'].unique())\n"
   ]
  },
  {
   "cell_type": "markdown",
   "metadata": {},
   "source": [
    "## Dep Airport Encod"
   ]
  },
  {
   "cell_type": "code",
   "execution_count": 60,
   "metadata": {},
   "outputs": [
    {
     "name": "stdout",
     "output_type": "stream",
     "text": [
      "Dep_Airport unique values after encoding: [158  71 182  21 256 173 298 238 317  92 178 224 232 160 191 299 311 165\n",
      " 215 204 172  91 325 150 184 250 193  56 209 152  24  88 112 100  54 233\n",
      " 230 328  68 286 296 284 303   3  44 226 120 246 109 106  86 137  42 247\n",
      " 331 163  82  18 218  87 151 203 207 269  99 251 309 330 332 285 237 307\n",
      " 273 144 161 239  70  23  64  14 196  85 195 189 323  65  17 295  43 149\n",
      "  78 202 261  76 288 304 276 220 185  57  34   2 287 210 116  55  58 281\n",
      " 227 143 235 139 265 279 216 123 101 128 306 113  81 315 169 162  63  62\n",
      " 102 268   8 291 258 302  12 234 115  28 267  22 297 127 138   5 254 248\n",
      " 171 345 217  10 201  66   0 114  73  36  33 133  83 134 225 200 346 214\n",
      " 110 342 142 190 145  39  52 154 341  53   7 170 272  30 176 194 132  26\n",
      " 326 289 211 337 318 118  59  94  41 124 223  29 136 290 348 275  47 166\n",
      " 186 319 301  48 168 175 105 153 320 192 103  79 125   4  20 206 167  25\n",
      "  31  89  49 221   1 126 277 183 121  60 257 334  51 270 333 329 282 119\n",
      " 253 308  97 147  80 271 188 283  77   6 212 252 292  93 130 155 312  72\n",
      " 229  38 280 179  74  19  84 141 293 278  96 197  46 343 240 347  32 131\n",
      " 180  40  11 300 305 198 222 187 324 336 255 164 228 219 213  27 321 129\n",
      " 264  69  95  61 174 205 157 208 294 159 322  45  37 117 314 339 111 335\n",
      " 177 122 236 181  90  98 242 340 344 327 231 260 104  50 108 135 244  67\n",
      " 262 241 274 199 313 263  16 338 148 156  35 245  15   9 249 316 146 107\n",
      "  13 310 259 140 243  75 266]\n"
     ]
    }
   ],
   "source": [
    "encoders['Dep_Airport'] = LabelEncoder()\n",
    "\n",
    "encoders['Dep_Airport'].fit(df_sampled['Dep_Airport'].unique())\n",
    "\n",
    "df_sampled['Dep_Airport'] = encoders['Dep_Airport'].transform(df_sampled['Dep_Airport'])\n",
    "\n",
    "print(\"Dep_Airport unique values after encoding:\", df_sampled['Dep_Airport'].unique())\n"
   ]
  },
  {
   "cell_type": "markdown",
   "metadata": {},
   "source": [
    "## Arr Airport Encod"
   ]
  },
  {
   "cell_type": "code",
   "execution_count": 61,
   "metadata": {},
   "outputs": [
    {
     "name": "stdout",
     "output_type": "stream",
     "text": [
      "Arr_Airport unique values after encoding: [112 207  21 285 193  53 204 251  88 106 297 226 252 288 238  54 120 145\n",
      " 172  34 195 100 160  70  91  86 308  23  35  44 173  82  41 299 137 332\n",
      " 203 237 178  64 346 151 132 307 235  56  43  92  42 303 274 233 277 150\n",
      " 184 234 338 224 329 287  68 201 247 314 305 333  33  58 268  65 227  99\n",
      " 158 318 171 182 301 144 310 280 326 210 312 298  63  30 330 125 246 316\n",
      " 292 196 114  76 128 167   0 294  18 232 296 136 266 131 259 239 149 255\n",
      " 215  55 282 194 225  71 175  37  22  14 123 109 334 289  28 197 161 209\n",
      " 102 165 206 138 214  26 162 284 216 257 230  57 293  67  87 169 270   2\n",
      " 139 116 319 271 152  79 133 244 281 228 115  12  13 223 273 248 179 110\n",
      " 229  20 231  31 278 343 190 170   8  72 176  24 163  80 154  69 258 211\n",
      " 327 153 124 191 118 164  62 220 127 236  39 185 113 290 300  85 135  96\n",
      " 134  59   7 291  17 254 103 148 121 348  47 321 119 188 117 217  97 101\n",
      " 311   5 183 141  89 272 147 342  25  73 339  83 253 126 323 315 320 212\n",
      " 276 146  38  48 341 286 275 340  90 218 168   3  36 263 177 213 302  52\n",
      " 219 200 187  77 336  61 322 192   4 143 186 344 249 240 130 199 202  10\n",
      " 198 262 264 104 331 142 317 208   1 129 313 335 337 265 111 157  66 180\n",
      " 221 108  81 269  40  11 189 306  84 347  27 309 349  60  49 105  45  46\n",
      " 283  19 267 205 242 279 328  93 140  32  74 241 222 155 159 256 181 304\n",
      "   6 325 295  29  51  78 166 174  50 156 261  16 324  94 122 107 245 260\n",
      "  98  75 345  15   9  95 250 243]\n"
     ]
    }
   ],
   "source": [
    "encoders['Arr_Airport'] = LabelEncoder()\n",
    "\n",
    "encoders['Arr_Airport'].fit(df_sampled['Arr_Airport'].unique())\n",
    "\n",
    "df_sampled['Arr_Airport'] = encoders['Arr_Airport'].transform(df_sampled['Arr_Airport'])\n",
    "\n",
    "print(\"Arr_Airport unique values after encoding:\", df_sampled['Arr_Airport'].unique())\n"
   ]
  },
  {
   "cell_type": "markdown",
   "metadata": {},
   "source": [
    "## DepTime_Label Encod"
   ]
  },
  {
   "cell_type": "code",
   "execution_count": 62,
   "metadata": {},
   "outputs": [
    {
     "name": "stdout",
     "output_type": "stream",
     "text": [
      "DepTime_label unique values after encoding: [0 2 1 3]\n"
     ]
    }
   ],
   "source": [
    "dep_time_label_classes = ['Morning', 'Afternoon', 'Evening', 'Night']\n",
    "\n",
    "encoders['DepTime_label'] = LabelEncoder()\n",
    "\n",
    "encoders['DepTime_label'].fit(dep_time_label_classes)\n",
    "\n",
    "df_sampled['DepTime_label'] = encoders['DepTime_label'].transform(df_sampled['DepTime_label'])\n",
    "\n",
    "print(\"DepTime_label unique values after encoding:\", df_sampled['DepTime_label'].unique())\n"
   ]
  },
  {
   "cell_type": "markdown",
   "metadata": {},
   "source": [
    "## Distance_type Encod"
   ]
  },
  {
   "cell_type": "code",
   "execution_count": 63,
   "metadata": {},
   "outputs": [
    {
     "name": "stdout",
     "output_type": "stream",
     "text": [
      "Distance_type unique values after encoding: [2 1 0]\n"
     ]
    }
   ],
   "source": [
    "distance_type_classes = ['Short Haul >1500Mi', 'Medium Haul <3000Mi', 'Long Haul <6000Mi']\n",
    "\n",
    "encoders['Distance_type'] = LabelEncoder()\n",
    "\n",
    "encoders['Distance_type'].fit(distance_type_classes)\n",
    "\n",
    "df_sampled['Distance_type'] = encoders['Distance_type'].transform(df_sampled['Distance_type'])\n",
    "\n",
    "print(\"Distance_type unique values after encoding:\", df_sampled['Distance_type'].unique())\n"
   ]
  },
  {
   "cell_type": "markdown",
   "metadata": {},
   "source": [
    "# Machine Learning "
   ]
  },
  {
   "cell_type": "markdown",
   "metadata": {},
   "source": [
    "## Unbalanced Classes + K-fold"
   ]
  },
  {
   "cell_type": "code",
   "execution_count": 64,
   "metadata": {},
   "outputs": [
    {
     "name": "stdout",
     "output_type": "stream",
     "text": [
      "Average Accuracy: 0.7482\n",
      "Average Confusion Matrix:\n",
      "[[  1151.   10682.8   1693.8]\n",
      " [  4772.2 145116.6  10607.4]\n",
      " [  1494.6  21107.    3374.6]]\n",
      "Average Classification Report:\n",
      "{'precision': 0.6967384489736272, 'recall': 0.7482110000000001, 'f1-score': 0.7187728236710607}\n"
     ]
    }
   ],
   "source": [
    "# Define features and target variable\n",
    "features = ['Day_Of_Week', 'Month', 'DepTime_label', 'Airline', 'Dep_Airport', 'Arr_Airport', 'Distance_type']\n",
    "target = 'Dep_Delay_Type'\n",
    "\n",
    "X = df_sampled[features]\n",
    "y = df_sampled[target]\n",
    "\n",
    "from sklearn.ensemble import RandomForestClassifier\n",
    "\n",
    "# Initialize the Random Forest Classifier\n",
    "rf_model = RandomForestClassifier(n_estimators=100, random_state=42)\n",
    "\n",
    "from sklearn.model_selection import KFold\n",
    "from sklearn.metrics import accuracy_score, confusion_matrix, classification_report\n",
    "\n",
    "# Define k-fold cross-validation\n",
    "kf = KFold(n_splits=5, shuffle=True, random_state=42)\n",
    "\n",
    "# Arrays to store the results of each fold\n",
    "accuracy_scores = []\n",
    "conf_matrices = []\n",
    "class_reports = []\n",
    "\n",
    "# K-Fold Cross Validation\n",
    "for train_index, test_index in kf.split(X):\n",
    "    X_train, X_test = X.iloc[train_index], X.iloc[test_index]\n",
    "    y_train, y_test = y.iloc[train_index], y.iloc[test_index]\n",
    "    \n",
    "    # Train the model\n",
    "    rf_model.fit(X_train, y_train)\n",
    "    \n",
    "    # Make predictions on the test set\n",
    "    y_pred = rf_model.predict(X_test)\n",
    "    \n",
    "    # Evaluate the model\n",
    "    accuracy = accuracy_score(y_test, y_pred)\n",
    "    conf_matrix = confusion_matrix(y_test, y_pred)\n",
    "    class_report = classification_report(y_test, y_pred, output_dict=True)\n",
    "    \n",
    "    # Store the results\n",
    "    accuracy_scores.append(accuracy)\n",
    "    conf_matrices.append(conf_matrix)\n",
    "    class_reports.append(class_report)\n",
    "\n",
    "# Average accuracy\n",
    "avg_accuracy = sum(accuracy_scores) / len(accuracy_scores)\n",
    "\n",
    "# Average confusion matrix\n",
    "avg_conf_matrix = np.mean(conf_matrices, axis=0)\n",
    "\n",
    "# Average classification report\n",
    "avg_class_report = {\n",
    "    \"precision\": sum([cr['weighted avg']['precision'] for cr in class_reports]) / len(class_reports),\n",
    "    \"recall\": sum([cr['weighted avg']['recall'] for cr in class_reports]) / len(class_reports),\n",
    "    \"f1-score\": sum([cr['weighted avg']['f1-score'] for cr in class_reports]) / len(class_reports)\n",
    "}\n",
    "\n",
    "print(f\"Average Accuracy: {avg_accuracy:.4f}\")\n",
    "print(\"Average Confusion Matrix:\")\n",
    "print(avg_conf_matrix)\n",
    "print(\"Average Classification Report:\")\n",
    "print(avg_class_report)"
   ]
  },
  {
   "cell_type": "code",
   "execution_count": 67,
   "metadata": {},
   "outputs": [
    {
     "data": {
      "image/png": "[encoded data removed]",
      "text/plain": [
       "<Figure size 1000x700 with 2 Axes>"
      ]
     },
     "metadata": {},
     "output_type": "display_data"
    }
   ],
   "source": [
    "import numpy as np\n",
    "import matplotlib.pyplot as plt\n",
    "import seaborn as sns\n",
    "\n",
    "# Average confusion matrix\n",
    "confusion_matrix = np.array([\n",
    "    [1151, 10682.8, 1693.8],\n",
    "    [4772.2, 145116.6, 10607.4],\n",
    "    [1494.6, 21107, 3374.6]\n",
    "])\n",
    "\n",
    "# Create a heatmap with color nuances from beige to brown\n",
    "plt.figure(figsize=(10, 7))\n",
    "sns.heatmap(confusion_matrix, annot=True, fmt=\".1f\", cmap=\"YlOrBr\", cbar=True, linewidths=.5, annot_kws={\"size\": 12})\n",
    "\n",
    "# Add labels, title, and adjust\n",
    "plt.xlabel('Predicted labels')\n",
    "plt.ylabel('True labels')\n",
    "plt.title('Confusion Matrix')\n",
    "plt.show()\n"
   ]
  },
  {
   "cell_type": "markdown",
   "metadata": {},
   "source": [
    "## Export Model/Encoders/Accuracy"
   ]
  },
  {
   "cell_type": "code",
   "execution_count": 65,
   "metadata": {},
   "outputs": [],
   "source": [
    "import pickle\n",
    "\n",
    "# Save the model\n",
    "with open('flight_delay_model.pkl', 'wb') as model_file:\n",
    "    pickle.dump(rf_model, model_file)\n",
    "\n",
    "# Save the encoders\n",
    "with open('encoders.pkl', 'wb') as encoders_file:\n",
    "    pickle.dump(encoders, encoders_file)\n",
    "\n",
    "# Save the model accuracy\n",
    "with open('model_accuracy.pkl', 'wb') as accuracy_file:\n",
    "    pickle.dump(avg_accuracy, accuracy_file)"
   ]
  },
  {
   "cell_type": "markdown",
   "metadata": {},
   "source": [
    "## Hyperparameter Tunning"
   ]
  },
  {
   "cell_type": "code",
   "execution_count": 41,
   "metadata": {},
   "outputs": [
    {
     "name": "stderr",
     "output_type": "stream",
     "text": [
      "/Users/pierreloyal/anaconda3/lib/python3.11/site-packages/joblib/externals/loky/process_executor.py:700: UserWarning: A worker stopped while some jobs were given to the executor. This can be caused by a too short worker timeout or by a memory leak.\n",
      "  warnings.warn(\n"
     ]
    },
    {
     "name": "stdout",
     "output_type": "stream",
     "text": [
      "Best Parameters: {'n_estimators': 100, 'min_samples_split': 2, 'min_samples_leaf': 1, 'max_depth': 30, 'bootstrap': False}\n",
      "Average Accuracy Score: 0.7374557142857143\n",
      "Confusion Matrix for first fold:\n",
      "[[  935  7462  1306]\n",
      " [ 3996 99672  8302]\n",
      " [ 1205 14609  2513]]\n",
      "Classification Report for first fold:\n",
      "{'Hight >60min': {'precision': 0.1523794002607562, 'recall': 0.09636194991239823, 'f1-score': 0.11806300902834775, 'support': 9703.0}, 'Low <5min': {'precision': 0.8187082624873709, 'recall': 0.8901670090202732, 'f1-score': 0.8529435675379632, 'support': 111970.0}, 'Medium >15min': {'precision': 0.20732612820724364, 'recall': 0.1371200960331751, 'f1-score': 0.16506831318970047, 'support': 18327.0}, 'accuracy': 0.7365714285714285, 'macro avg': {'precision': 0.39280459698512354, 'recall': 0.37454968498861546, 'f1-score': 0.37869162991867045, 'support': 140000.0}, 'weighted avg': {'precision': 0.6924926244506799, 'recall': 0.7365714285714285, 'f1-score': 0.7119633114975388, 'support': 140000.0}}\n"
     ]
    }
   ],
   "source": [
    "from sklearn.ensemble import RandomForestClassifier\n",
    "from sklearn.model_selection import KFold, RandomizedSearchCV\n",
    "from sklearn.metrics import accuracy_score, confusion_matrix, classification_report\n",
    "import numpy as np\n",
    "\n",
    "# Define features and target variable\n",
    "features = ['Day_Of_Week', 'Month', 'DepTime_label', 'Airline', 'Dep_Airport', 'Arr_Airport', 'Distance_type']\n",
    "target = 'Dep_Delay_Type'\n",
    "\n",
    "X = df_sampled[features]\n",
    "y = df_sampled[target]\n",
    "\n",
    "# Initialize the Random Forest Classifier\n",
    "rf_model = RandomForestClassifier(random_state=42)\n",
    "\n",
    "# Define the parameter grid for hyperparameter tuning\n",
    "param_dist = {\n",
    "    'n_estimators': [50, 100, 200],\n",
    "    'max_depth': [None, 10, 20, 30],\n",
    "    'min_samples_split': [2, 5, 10],\n",
    "    'min_samples_leaf': [1, 2, 4],\n",
    "    'bootstrap': [True, False]\n",
    "}\n",
    "\n",
    "# Define k-fold cross-validation\n",
    "kf = KFold(n_splits=5, shuffle=True, random_state=42)\n",
    "\n",
    "# Initialize RandomizedSearchCV\n",
    "random_search = RandomizedSearchCV(estimator=rf_model, param_distributions=param_dist, n_iter=20, cv=kf, n_jobs=-1, scoring='balanced_accuracy', random_state=42)\n",
    "\n",
    "# Fit RandomizedSearchCV\n",
    "random_search.fit(X, y)\n",
    "\n",
    "# Get the best parameters and best estimator\n",
    "best_params = random_search.best_params_\n",
    "best_rf_model = random_search.best_estimator_\n",
    "\n",
    "print(f\"Best Parameters: {best_params}\")\n",
    "\n",
    "# Evaluate the best model using k-fold cross-validation\n",
    "accuracy_scores = []\n",
    "conf_matrices = []\n",
    "class_reports = []\n",
    "\n",
    "for train_index, test_index in kf.split(X):\n",
    "    X_train, X_test = X.iloc[train_index], X.iloc[test_index]\n",
    "    y_train, y_test = y.iloc[train_index], y.iloc[test_index]\n",
    "    \n",
    "    # Train the model with the best parameters\n",
    "    best_rf_model.fit(X_train, y_train)\n",
    "    \n",
    "    # Make predictions on the test set\n",
    "    y_pred = best_rf_model.predict(X_test)\n",
    "    \n",
    "    # Evaluate the model\n",
    "    accuracy = accuracy_score(y_test, y_pred)\n",
    "    conf_matrix = confusion_matrix(y_test, y_pred)\n",
    "    class_report = classification_report(y_test, y_pred, output_dict=True)\n",
    "    \n",
    "    # Store the results\n",
    "    accuracy_scores.append(accuracy)\n",
    "    conf_matrices.append(conf_matrix)\n",
    "    class_reports.append(class_report)\n",
    "\n",
    "# Print average accuracy score\n",
    "print(f\"Average Accuracy Score: {sum(accuracy_scores)/len(accuracy_scores)}\")\n",
    "\n",
    "# Example of accessing one of the confusion matrices or classification reports\n",
    "print(\"Confusion Matrix for first fold:\")\n",
    "print(conf_matrices[0])\n",
    "\n",
    "print(\"Classification Report for first fold:\")\n",
    "print(class_reports[0])\n"
   ]
  },
  {
   "cell_type": "markdown",
   "metadata": {},
   "source": [
    "## Unbalanced (No K-fold)"
   ]
  },
  {
   "cell_type": "code",
   "execution_count": null,
   "metadata": {},
   "outputs": [
    {
     "name": "stdout",
     "output_type": "stream",
     "text": [
      "Accuracy: 0.748325\n",
      "Confusion Matrix:\n",
      "[[  1160  10618   1611]\n",
      " [  4761 145135  10509]\n",
      " [  1550  21286   3370]]\n",
      "Classification Report:\n",
      "               precision    recall  f1-score   support\n",
      "\n",
      " Hight >60min       0.16      0.09      0.11     13389\n",
      "    Low <5min       0.82      0.90      0.86    160405\n",
      "Medium >15min       0.22      0.13      0.16     26206\n",
      "\n",
      "     accuracy                           0.75    200000\n",
      "    macro avg       0.40      0.37      0.38    200000\n",
      " weighted avg       0.70      0.75      0.72    200000\n",
      "\n"
     ]
    },
    {
     "data": {
      "image/png": "[encoded data removed]",
      "text/plain": [
       "<Figure size 1200x900 with 2 Axes>"
      ]
     },
     "metadata": {},
     "output_type": "display_data"
    }
   ],
   "source": [
    "import matplotlib.pyplot as plt\n",
    "import seaborn as sns\n",
    "from sklearn.preprocessing import LabelEncoder\n",
    "from sklearn.model_selection import train_test_split\n",
    "from sklearn.ensemble import RandomForestClassifier\n",
    "from sklearn.metrics import accuracy_score, confusion_matrix, classification_report\n",
    "\n",
    "# Encoding categorical variables\n",
    "label_encoder = LabelEncoder()\n",
    "\n",
    "# Apply label encoding to categorical features\n",
    "categorical_features = ['Day_Of_Week', 'Month', 'Airline', 'Dep_Airport', 'Arr_Airport', 'DepTime_label', 'Distance_type']\n",
    "for feature in categorical_features:\n",
    "    df_sampled[feature] = label_encoder.fit_transform(df_sampled[feature])\n",
    "\n",
    "# Define features and target variable\n",
    "X = df_sampled[categorical_features]\n",
    "y = df_sampled['Dep_Delay_Type']\n",
    "\n",
    "# Split the dataset into training and testing sets\n",
    "X_train, X_test, y_train, y_test = train_test_split(X, y, test_size=0.2, random_state=42)\n",
    "\n",
    "# Model Training\n",
    "rf_model = RandomForestClassifier(n_estimators=100, random_state=42)\n",
    "rf_model.fit(X_train, y_train)\n",
    "\n",
    "# Model Evaluation\n",
    "y_pred = rf_model.predict(X_test)\n",
    "accuracy = accuracy_score(y_test, y_pred)\n",
    "conf_matrix = confusion_matrix(y_test, y_pred)\n",
    "class_report = classification_report(y_test, y_pred)\n",
    "\n",
    "# Print evaluation metrics\n",
    "print(f\"Accuracy: {accuracy}\")\n",
    "print(\"Confusion Matrix:\")\n",
    "print(conf_matrix)\n",
    "print(\"Classification Report:\")\n",
    "print(class_report)\n",
    "\n",
    "# Visualizing the Confusion Matrix\n",
    "plt.figure(figsize=(12, 9))\n",
    "sns.heatmap(conf_matrix, annot=True, fmt='d', cmap='Blues', \n",
    "            xticklabels=label_encoder.classes_, yticklabels=label_encoder.classes_, annot_kws={\"size\": 16})\n",
    "plt.xlabel('Predicted', fontsize=14)\n",
    "plt.ylabel('Actual', fontsize=14)\n",
    "plt.title('Confusion Matrix', fontsize=16)\n",
    "plt.tight_layout()\n",
    "plt.show()\n",
    "\n"
   ]
  },
  {
   "cell_type": "markdown",
   "metadata": {},
   "source": [
    "## Balanced "
   ]
  },
  {
   "cell_type": "code",
   "execution_count": null,
   "metadata": {},
   "outputs": [
    {
     "name": "stdout",
     "output_type": "stream",
     "text": [
      "Accuracy: 0.440676257058349\n",
      "Confusion Matrix:\n",
      "[[ 3214  3696  6526]\n",
      " [ 2631  9102  8241]\n",
      " [ 4676  7512 13906]]\n",
      "Classification Report:\n",
      "               precision    recall  f1-score   support\n",
      "\n",
      " Hight >60min       0.31      0.24      0.27     13436\n",
      "    Low <5min       0.45      0.46      0.45     19974\n",
      "Medium >15min       0.48      0.53      0.51     26094\n",
      "\n",
      "     accuracy                           0.44     59504\n",
      "    macro avg       0.41      0.41      0.41     59504\n",
      " weighted avg       0.43      0.44      0.43     59504\n",
      "\n"
     ]
    }
   ],
   "source": [
    "import pandas as pd\n",
    "from sklearn.model_selection import train_test_split\n",
    "from sklearn.preprocessing import LabelEncoder\n",
    "from sklearn.ensemble import RandomForestClassifier\n",
    "from sklearn.metrics import classification_report, confusion_matrix, accuracy_score\n",
    "\n",
    "# Step 1: Resample the dataset to balance the classes\n",
    "low_delay = df_sampled[df_sampled['Dep_Delay_Type'] == 'Low <5min']\n",
    "medium_delay = df_sampled[df_sampled['Dep_Delay_Type'] == 'Medium >15min']\n",
    "high_delay = df_sampled[df_sampled['Dep_Delay_Type'] == 'High >60min']\n",
    "\n",
    "# Randomly sample 30,000 from 'Low <5min'\n",
    "low_delay_sampled = low_delay.sample(n=100000, random_state=42)\n",
    "\n",
    "# Combine the sampled 'Low <5min' with the other classes\n",
    "df_balanced = pd.concat([low_delay_sampled, medium_delay, high_delay])\n",
    "\n",
    "# Step 2: Data Preprocessing\n",
    "# Encoding categorical variables\n",
    "label_encoder = LabelEncoder()\n",
    "\n",
    "# Apply label encoding to categorical features\n",
    "categorical_features = ['Day_Of_Week', 'Month', 'Airline', 'Dep_Airport', 'Arr_Airport', 'DepTime_label', 'Distance_type']\n",
    "for feature in categorical_features:\n",
    "    df_balanced[feature] = label_encoder.fit_transform(df_balanced[feature])\n",
    "\n",
    "# Define features and target variable\n",
    "X_balanced = df_balanced[categorical_features]\n",
    "y_balanced = df_balanced['Dep_Delay_Type']\n",
    "\n",
    "# Split the dataset into training and testing sets\n",
    "X_train_balanced, X_test_balanced, y_train_balanced, y_test_balanced = train_test_split(X_balanced, y_balanced, test_size=0.2, random_state=42)\n",
    "\n",
    "# Step 3: Model Training\n",
    "# Initialize the Random Forest Classifier\n",
    "rf_model_balanced = RandomForestClassifier(n_estimators=100, random_state=42)\n",
    "\n",
    "# Train the model\n",
    "rf_model_balanced.fit(X_train_balanced, y_train_balanced)\n",
    "\n",
    "# Step 4: Model Evaluation\n",
    "# Make predictions on the test set\n",
    "y_pred_balanced = rf_model_balanced.predict(X_test_balanced)\n",
    "\n",
    "# Evaluate the model\n",
    "accuracy_balanced = accuracy_score(y_test_balanced, y_pred_balanced)\n",
    "conf_matrix_balanced = confusion_matrix(y_test_balanced, y_pred_balanced)\n",
    "class_report_balanced = classification_report(y_test_balanced, y_pred_balanced)\n",
    "\n",
    "# Print evaluation metrics\n",
    "print(f\"Accuracy: {accuracy_balanced}\")\n",
    "print(\"Confusion Matrix:\")\n",
    "print(conf_matrix_balanced)\n",
    "print(\"Classification Report:\")\n",
    "print(class_report_balanced)\n"
   ]
  },
  {
   "cell_type": "markdown",
   "metadata": {},
   "source": [
    "## Balanced + K fold"
   ]
  },
  {
   "cell_type": "code",
   "execution_count": null,
   "metadata": {},
   "outputs": [
    {
     "data": {
      "image/png": "[encoded data removed]",
      "text/plain": [
       "<Figure size 800x600 with 2 Axes>"
      ]
     },
     "metadata": {},
     "output_type": "display_data"
    },
    {
     "name": "stdout",
     "output_type": "stream",
     "text": [
      "            Average\n",
      "precision  0.474431\n",
      "recall     0.494412\n",
      "f1-score   0.481598\n",
      "Average Accuracy: 0.4944\n"
     ]
    },
    {
     "data": {
      "text/plain": [
       "(RandomForestClassifier(random_state=42),\n",
       " array([[ 2592.4,  6302.2,  4633. ],\n",
       "        [ 3517.4, 26892.6,  9590. ],\n",
       "        [ 3470.8, 12682.8,  9822.6]]),\n",
       " {'precision': 0.47443050868121767,\n",
       "  'recall': 0.4944115916326597,\n",
       "  'f1-score': 0.4815982300021039},\n",
       " 0.4944115916326597)"
      ]
     },
     "execution_count": 27,
     "metadata": {},
     "output_type": "execute_result"
    }
   ],
   "source": [
    "# Step 1: Resample the dataset to balance the classes\n",
    "low_delay = df_sampled[df_sampled['Dep_Delay_Type'] == 'Low <5min']\n",
    "medium_delay = df_sampled[df_sampled['Dep_Delay_Type'] == 'Medium >15min']\n",
    "high_delay = df_sampled[df_sampled['Dep_Delay_Type'] == 'High >60min']\n",
    "\n",
    "# Randomly sample 200,000 from 'Low <5min'\n",
    "low_delay_sampled = low_delay.sample(n=200000, random_state=42)\n",
    "\n",
    "# Combine the sampled 'Low <5min' with the other classes\n",
    "df_balanced = pd.concat([low_delay_sampled, medium_delay, high_delay])\n",
    "\n",
    "# Step 2: Data Preprocessing\n",
    "# Encoding categorical variables\n",
    "label_encoder = LabelEncoder()\n",
    "\n",
    "# Apply label encoding to categorical features\n",
    "categorical_features = ['Day_Of_Week', 'Month', 'Airline', 'Dep_Airport', 'Arr_Airport', 'DepTime_label', 'Distance_type']\n",
    "for feature in categorical_features:\n",
    "    df_balanced[feature] = label_encoder.fit_transform(df_balanced[feature])\n",
    "\n",
    "# Define features and target variable\n",
    "X_balanced = df_balanced[categorical_features]\n",
    "y_balanced = df_balanced['Dep_Delay_Type']\n",
    "\n",
    "# Step 3: K-Fold Cross-Validation\n",
    "kf = KFold(n_splits=5, shuffle=True, random_state=42)\n",
    "\n",
    "# Initialize the Random Forest Classifier\n",
    "rf_model_balanced = RandomForestClassifier(n_estimators=100, random_state=42)\n",
    "\n",
    "# Lists to store evaluation metrics for each fold\n",
    "accuracy_list = []\n",
    "conf_matrix_list = []\n",
    "class_report_list = []\n",
    "\n",
    "for train_index, test_index in kf.split(X_balanced):\n",
    "    X_train, X_test = X_balanced.iloc[train_index], X_balanced.iloc[test_index]\n",
    "    y_train, y_test = y_balanced.iloc[train_index], y_balanced.iloc[test_index]\n",
    "\n",
    "    # Train the model\n",
    "    rf_model_balanced.fit(X_train, y_train)\n",
    "\n",
    "    # Make predictions on the test set\n",
    "    y_pred = rf_model_balanced.predict(X_test)\n",
    "\n",
    "    # Evaluate the model\n",
    "    accuracy = accuracy_score(y_test, y_pred)\n",
    "    conf_matrix = confusion_matrix(y_test, y_pred)\n",
    "    class_report = classification_report(y_test, y_pred, output_dict=True)\n",
    "\n",
    "    # Store the results\n",
    "    accuracy_list.append(accuracy)\n",
    "    conf_matrix_list.append(conf_matrix)\n",
    "    class_report_list.append(class_report)\n",
    "\n",
    "# Calculate average accuracy\n",
    "avg_accuracy = sum(accuracy_list) / len(accuracy_list)\n",
    "\n",
    "# Calculate average confusion matrix\n",
    "avg_conf_matrix = np.mean(conf_matrix_list, axis=0)\n",
    "\n",
    "# Calculate average classification report\n",
    "avg_class_report = {\n",
    "    \"precision\": sum([cr['weighted avg']['precision'] for cr in class_report_list]) / len(class_report_list),\n",
    "    \"recall\": sum([cr['weighted avg']['recall'] for cr in class_report_list]) / len(class_report_list),\n",
    "    \"f1-score\": sum([cr['weighted avg']['f1-score'] for cr in class_report_list]) / len(class_report_list)\n",
    "}\n",
    "\n",
    "# Plot the average confusion matrix\n",
    "plt.figure(figsize=(8, 6))\n",
    "plt.imshow(avg_conf_matrix, interpolation='nearest', cmap=plt.cm.Blues)\n",
    "plt.title(\"Average Confusion Matrix\")\n",
    "plt.colorbar()\n",
    "tick_marks = np.arange(len(set(y_balanced)))\n",
    "plt.xticks(tick_marks, tick_marks, rotation=45)\n",
    "plt.yticks(tick_marks, tick_marks)\n",
    "\n",
    "thresh = avg_conf_matrix.max() / 2.\n",
    "for i, j in np.ndindex(avg_conf_matrix.shape):\n",
    "    plt.text(j, i, format(avg_conf_matrix[i, j], '.2f'),\n",
    "             ha=\"center\", va=\"center\",\n",
    "             color=\"white\" if avg_conf_matrix[i, j] > thresh else \"black\")\n",
    "\n",
    "plt.ylabel('True label')\n",
    "plt.xlabel('Predicted label')\n",
    "plt.tight_layout()\n",
    "\n",
    "# Show the plot\n",
    "plt.show()\n",
    "\n",
    "# Display the average classification report\n",
    "avg_class_report_df = pd.DataFrame(avg_class_report, index=[\"Average\"]).transpose()\n",
    "print(avg_class_report_df)\n",
    "\n",
    "# Print the average accuracy\n",
    "print(f\"Average Accuracy: {avg_accuracy:.4f}\")\n",
    "\n",
    "# Return the model, average confusion matrix, classification report, and accuracy\n",
    "rf_model_balanced, avg_conf_matrix, avg_class_report, avg_accuracy\n"
   ]
  }
 ],
 "metadata": {
  "kernelspec": {
   "display_name": "base",
   "language": "python",
   "name": "python3"
  },
  "language_info": {
   "codemirror_mode": {
    "name": "ipython",
    "version": 3
   },
   "file_extension": ".py",
   "mimetype": "text/x-python",
   "name": "python",
   "nbconvert_exporter": "python",
   "pygments_lexer": "ipython3",
   "version": "3.11.5"
  }
 },
 "nbformat": 4,
 "nbformat_minor": 2
}
